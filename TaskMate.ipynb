{
  "nbformat": 4,
  "nbformat_minor": 0,
  "metadata": {
    "colab": {
      "provenance": []
    },
    "kernelspec": {
      "name": "python3",
      "display_name": "Python 3"
    },
    "language_info": {
      "name": "python"
    }
  },
  "cells": [
    {
      "cell_type": "code",
      "execution_count": null,
      "metadata": {
        "id": "uzYS5gxUX6IC"
      },
      "outputs": [],
      "source": []
    },
    {
      "cell_type": "markdown",
      "source": [],
      "metadata": {
        "id": "0phc176wcnAR"
      }
    },
    {
      "cell_type": "markdown",
      "metadata": {
        "id": "8a503bf9"
      },
      "source": [
        "## Define modules\n",
        "\n",
        "### Subtask:\n",
        "Create separate Python files for each functional area (e.g., `file_utils.py`, `email_utils.py`, `scheduler.py`, `main.py`).\n"
      ]
    },
    {
      "cell_type": "markdown",
      "metadata": {
        "id": "df647d90"
      },
      "source": [
        "**Reasoning**:\n",
        "Create the empty Python files as instructed.\n",
        "\n"
      ]
    },
    {
      "cell_type": "code",
      "metadata": {
        "id": "231ac4a6"
      },
      "source": [
        "!touch file_utils.py email_utils.py scheduler.py main.py"
      ],
      "execution_count": 15,
      "outputs": []
    },
    {
      "cell_type": "markdown",
      "metadata": {
        "id": "cf0722cd"
      },
      "source": [
        "## Implement file utilities\n",
        "\n",
        "### Subtask:\n",
        "Write the code for file operations (copy, move, delete) in `file_utils.py`.\n"
      ]
    },
    {
      "cell_type": "code",
      "metadata": {
        "id": "e144faa9"
      },
      "source": [
        "%%writefile file_utils.py\n",
        "import os\n",
        "import shutil\n",
        "\n",
        "def copy_file(source, destination):\n",
        "    \"\"\"Copies a file from source to destination.\"\"\"\n",
        "    try:\n",
        "        shutil.copy2(source, destination)\n",
        "        print(f\"Successfully copied '{source}' to '{destination}'\")\n",
        "    except FileNotFoundError:\n",
        "        print(f\"Error: Source file not found at '{source}'\")\n",
        "    except PermissionError:\n",
        "        print(f\"Error: Permission denied to copy '{source}' to '{destination}'\")\n",
        "    except Exception as e:\n",
        "        print(f\"An unexpected error occurred while copying '{source}': {e}\")\n",
        "\n",
        "def move_file(source, destination):\n",
        "    \"\"\"Moves a file from source to destination.\"\"\"\n",
        "    try:\n",
        "        shutil.move(source, destination)\n",
        "        print(f\"Successfully moved '{source}' to '{destination}'\")\n",
        "    except FileNotFoundError:\n",
        "        print(f\"Error: Source file not found at '{source}'\")\n",
        "    except PermissionError:\n",
        "        print(f\"Error: Permission denied to move '{source}' to '{destination}'\")\n",
        "    except Exception as e:\n",
        "        print(f\"An unexpected error occurred while moving '{source}': {e}\")\n",
        "\n",
        "def delete_file(filepath):\n",
        "    \"\"\"Deletes a file.\"\"\"\n",
        "    try:\n",
        "        os.remove(filepath)\n",
        "        print(f\"Successfully deleted '{filepath}'\")\n",
        "    except FileNotFoundError:\n",
        "        print(f\"Error: File not found at '{filepath}'\")\n",
        "    except PermissionError:\n",
        "        print(f\"Error: Permission denied to delete '{filepath}'\")\n",
        "    except Exception as e:\n",
        "        print(f\"An unexpected error occurred while deleting '{filepath}': {e}\")"
      ],
      "execution_count": null,
      "outputs": []
    },
    {
      "cell_type": "markdown",
      "metadata": {
        "id": "da891e44"
      },
      "source": [
        "## Implement email utilities\n",
        "\n",
        "### Subtask:\n",
        "Write the code for sending emails in `email_utils.py`. Note that this will be initially commented out and require user configuration.\n"
      ]
    },
    {
      "cell_type": "code",
      "metadata": {
        "id": "5b763a56"
      },
      "source": [
        "%%writefile email_utils.py\n",
        "# import smtplib\n",
        "# from email.mime.text import MIMEText\n",
        "#\n",
        "# def send_email(subject, body, to_email):\n",
        "#     \"\"\"Sends an email using SMTP.\"\"\"\n",
        "#     # --- User Configuration ---\n",
        "#     # Replace with your email address\n",
        "#     from_email = \"your_email@example.com\"\n",
        "#     # Replace with your email password or app-specific password\n",
        "#     password = \"your_password\"\n",
        "#     # Replace with your SMTP server details\n",
        "#     smtp_server = \"smtp.example.com\"\n",
        "#     smtp_port = 587\n",
        "#     # --------------------------\n",
        "#\n",
        "#     msg = MIMEText(body)\n",
        "#     msg['Subject'] = subject\n",
        "#     msg['From'] = from_email\n",
        "#     msg['To'] = to_email\n",
        "#\n",
        "#     try:\n",
        "#         with smtplib.SMTP(smtp_server, smtp_port) as server:\n",
        "#             server.starttls()\n",
        "#             server.login(from_email, password)\n",
        "#             server.sendmail(from_email, [to_email], msg.as_string())\n",
        "#             print(f\"Successfully sent email to '{to_email}'\")\n",
        "#     except Exception as e:\n",
        "#         print(f\"An error occurred while sending the email: {e}\")\n"
      ],
      "execution_count": null,
      "outputs": []
    },
    {
      "cell_type": "markdown",
      "metadata": {
        "id": "1674c820"
      },
      "source": [
        "## Implement scheduler\n",
        "\n",
        "### Subtask:\n",
        "Write the code for scheduling and running tasks in `scheduler.py`.\n"
      ]
    },
    {
      "cell_type": "code",
      "metadata": {
        "id": "488dfbc0"
      },
      "source": [
        "%%writefile scheduler.py\n",
        "import schedule\n",
        "import time\n",
        "import threading\n",
        "\n",
        "stop_scheduler = False\n",
        "\n",
        "def schedule_task(task_func, schedule_time):\n",
        "    \"\"\"Schedules a task function at a specific time.\"\"\"\n",
        "    try:\n",
        "        # Assuming schedule_time is in a format like \"HH:MM\"\n",
        "        schedule.every().day.at(schedule_time).do(task_func)\n",
        "        print(f\"Task scheduled daily at {schedule_time}\")\n",
        "    except Exception as e:\n",
        "        print(f\"Error scheduling task: {e}\")\n",
        "\n",
        "def run_scheduled_tasks():\n",
        "    \"\"\"Continuously checks for and runs pending scheduled tasks.\"\"\"\n",
        "    global stop_scheduler\n",
        "    while not stop_scheduler:\n",
        "        schedule.run_pending()\n",
        "        time.sleep(1)\n",
        "\n",
        "def start_scheduler_thread():\n",
        "    \"\"\"Starts the scheduler in a separate thread.\"\"\"\n",
        "    scheduler_thread = threading.Thread(target=run_scheduled_tasks)\n",
        "    scheduler_thread.daemon = True  # Allows the main program to exit even if the thread is running\n",
        "    scheduler_thread.start()\n",
        "    print(\"Scheduler started.\")\n",
        "\n",
        "def stop_scheduler_thread():\n",
        "    \"\"\"Stops the scheduler thread.\"\"\"\n",
        "    global stop_scheduler\n",
        "    stop_scheduler = True\n",
        "    print(\"Scheduler stopping...\")\n",
        "\n",
        "if __name__ == '__main__':\n",
        "    # Example Usage (for testing the scheduler module directly)\n",
        "    def my_task():\n",
        "        print(\"Task executed!\")\n",
        "\n",
        "    # Schedule the task to run every day at a specific time (e.g., 10:30 AM)\n",
        "    # schedule_task(my_task, \"10:30\")\n",
        "\n",
        "    # Or schedule it to run in 5 seconds for testing\n",
        "    schedule.every(5).seconds.do(my_task)\n",
        "    print(\"Task scheduled to run in 5 seconds.\")\n",
        "\n",
        "\n",
        "    start_scheduler_thread()\n",
        "\n",
        "    # Keep the main thread alive to allow the scheduler thread to run\n",
        "    try:\n",
        "        while True:\n",
        "            time.sleep(1)\n",
        "    except KeyboardInterrupt:\n",
        "        stop_scheduler_thread()\n",
        "        print(\"Scheduler stopped by user.\")\n"
      ],
      "execution_count": null,
      "outputs": []
    },
    {
      "cell_type": "markdown",
      "metadata": {
        "id": "16b384f4"
      },
      "source": [
        "## Create main application\n",
        "\n",
        "### Subtask:\n",
        "Write the main script (`main.py`) that provides the command-line interface and integrates the other modules.\n"
      ]
    },
    {
      "cell_type": "code",
      "metadata": {
        "collapsed": true,
        "id": "81219eec"
      },
      "source": [
        "%%writefile main.py\n",
        "import argparse\n",
        "import time\n",
        "import sys\n",
        "\n",
        "# Assume file_utils.py and scheduler.py are in the same directory\n",
        "import file_utils\n",
        "import scheduler\n",
        "\n",
        "def main():\n",
        "    \"\"\"Main function to parse arguments and execute tasks.\"\"\"\n",
        "    parser = argparse.ArgumentParser(description=\"Personal project for file operations and scheduling.\")\n",
        "\n",
        "    # Mutually exclusive group for file operations\n",
        "    file_ops_group = parser.add_mutually_exclusive_group()\n",
        "\n",
        "    file_ops_group.add_argument(\n",
        "        \"--copy\",\n",
        "        nargs=2,\n",
        "        metavar=('SOURCE', 'DESTINATION'),\n",
        "        help=\"Copy a file from SOURCE to DESTINATION.\"\n",
        "    )\n",
        "    file_ops_group.add_argument(\n",
        "        \"--move\",\n",
        "        nargs=2,\n",
        "        metavar=('SOURCE', 'DESTINATION'),\n",
        "        help=\"Move a file from SOURCE to DESTINATION.\"\n",
        "    )\n",
        "    file_ops_group.add_argument(\n",
        "        \"--delete\",\n",
        "        metavar='FILEPATH',\n",
        "        help=\"Delete a file at FILEPATH.\"\n",
        "    )\n",
        "\n",
        "    # Arguments for scheduling tasks\n",
        "    parser.add_argument(\n",
        "        \"--schedule-task\",\n",
        "        nargs='+',\n",
        "        metavar=('TASK_TYPE', 'SCHEDULE_TIME', 'ARGS...'),\n",
        "        help=\"Schedule a task. TASK_TYPE can be 'copy', 'move', or 'delete'. SCHEDULE_TIME is in HH:MM format. ARGS are task-specific.\"\n",
        "    )\n",
        "\n",
        "    args = parser.parse_args()\n",
        "\n",
        "    # Handle file operations\n",
        "    if args.copy:\n",
        "        source, destination = args.copy\n",
        "        file_utils.copy_file(source, destination)\n",
        "    elif args.move:\n",
        "        source, destination = args.move\n",
        "        file_utils.move_file(source, destination)\n",
        "    elif args.delete:\n",
        "        filepath = args.delete\n",
        "        file_utils.delete_file(filepath)\n",
        "    elif args.schedule_task:\n",
        "        task_type = args.schedule_task[0].lower()\n",
        "        if len(args.schedule_task) < 2:\n",
        "            print(\"Error: SCHEDULE_TIME is required for scheduling tasks.\")\n",
        "            sys.exit(1)\n",
        "        schedule_time = args.schedule_task[1]\n",
        "        task_args = args.schedule_task[2:]\n",
        "\n",
        "        # Define a helper function to run the scheduled task\n",
        "        def scheduled_file_task():\n",
        "            if task_type == 'copy' and len(task_args) == 2:\n",
        "                source, destination = task_args\n",
        "                file_utils.copy_file(source, destination)\n",
        "            elif task_type == 'move' and len(task_args) == 2:\n",
        "                source, destination = task_args\n",
        "                file_utils.move_file(source, destination)\n",
        "            elif task_type == 'delete' and len(task_args) == 1:\n",
        "                filepath = task_args[0]\n",
        "                file_utils.delete_file(filepath)\n",
        "            else:\n",
        "                print(f\"Error: Invalid task type or arguments for scheduled task: {task_type} with args {task_args}\")\n",
        "\n",
        "        scheduler.schedule_task(scheduled_file_task, schedule_time)\n",
        "        scheduler.start_scheduler_thread()\n",
        "\n",
        "        # Keep the main thread alive to allow the scheduler thread to run\n",
        "        try:\n",
        "            print(\"Scheduler running. Press Ctrl+C to stop.\")\n",
        "            while True:\n",
        "                time.sleep(1)\n",
        "        except KeyboardInterrupt:\n",
        "            scheduler.stop_scheduler_thread()\n",
        "            print(\"Main program stopping.\")\n",
        "            sys.exit(0)\n",
        "\n",
        "    else:\n",
        "        # If no arguments are provided, display help message\n",
        "        parser.print_help()\n",
        "\n",
        "if __name__ == \"__main__\":\n",
        "    main()"
      ],
      "execution_count": null,
      "outputs": []
    }
  ]
}